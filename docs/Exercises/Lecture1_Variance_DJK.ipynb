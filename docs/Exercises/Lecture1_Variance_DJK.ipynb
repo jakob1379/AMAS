{
 "cells": [
  {
   "cell_type": "markdown",
   "id": "97e344f2",
   "metadata": {},
   "source": [
    "<hr style=\"border:2px solid hotpink\">\n",
    "\n",
    "D. Jason Koskinen\n",
    "Jan. 31, 2025\n",
    "\n",
    "I am updating the Advanced Methods in Applied Statistics Lecture 1 first exercise example for an additional dataset 'ARUJ.txt'.\n",
    "\n",
    "<hr style=\"border:2px solid hotpink\">\n"
   ]
  },
  {
   "cell_type": "code",
   "execution_count": 1,
   "id": "2172e89c",
   "metadata": {},
   "outputs": [],
   "source": [
    "import matplotlib.pyplot as plt\n",
    "import numpy\n",
    "import pandas as pd\n",
    "import scipy\n",
    "from scipy import stats as stats"
   ]
  },
  {
   "cell_type": "code",
   "execution_count": 2,
   "id": "268407e5-dc68-49b6-ad08-62c77afa2c48",
   "metadata": {},
   "outputs": [
    {
     "name": "stdout",
     "output_type": "stream",
     "text": [
      "Index(['dataset', 'x', 'y'], dtype='object')\n"
     ]
    }
   ],
   "source": [
    "InputFile = \"../data/aruj.txt\"\n",
    "OrigF = pd.read_csv(InputFile, sep = ' ')\n",
    "\n",
    "# I want to explicitly see what the column names are\n",
    "print(OrigF.columns)"
   ]
  },
  {
   "cell_type": "code",
   "execution_count": 3,
   "id": "2c689fe5-6997-4fd7-883c-207c0237b366",
   "metadata": {},
   "outputs": [
    {
     "name": "stdout",
     "output_type": "stream",
     "text": [
      "['d' 'a' 'h' 'v']\n"
     ]
    }
   ],
   "source": [
    "# Now I want to ensure that there are 4 datasets, and what the appropriate labels are\n",
    "unique = OrigF['dataset'].unique()\n",
    "print(unique)"
   ]
  },
  {
   "cell_type": "code",
   "execution_count": 4,
   "id": "727cf117-eea4-4116-9f06-452d7f0aad6c",
   "metadata": {},
   "outputs": [],
   "source": [
    "# I want to get the entire dataset that has the different dataset labels\n",
    "DData = OrigF[OrigF['dataset'] == 'd']\n",
    "AData = OrigF[OrigF['dataset'] == 'a']\n",
    "HData = OrigF[OrigF['dataset'] == 'h']\n",
    "VData = OrigF[OrigF['dataset'] == 'v']"
   ]
  },
  {
   "cell_type": "markdown",
   "id": "de2a0cfc-5c51-4569-b6db-7663ac72ec3e",
   "metadata": {},
   "source": [
    "<hr style=\"border:1px solid hotpink\">\n",
    "\n",
    " Now I want to see what the mean values are for the datasets. I do the calculution for both the x and y values, but I could just interpret the original question about the 'finding the mean' to apply to just the y-values.\n",
    "\n",
    " <hr style=\"border:1px solid hotpink\">\n"
   ]
  },
  {
   "cell_type": "code",
   "execution_count": 5,
   "id": "7a67acc8-4141-4d62-867c-0996dfd36b98",
   "metadata": {},
   "outputs": [
    {
     "name": "stdout",
     "output_type": "stream",
     "text": [
      "Going through the mean of the x values:\n",
      " d :  54.26327323943662\n",
      " a :  54.266099784204926\n",
      " h :  54.261441783514094\n",
      " v :  54.26992723102747\n",
      "\n",
      "Going through the mean of the y values:\n",
      " d :  47.832252816901416\n",
      " a :  47.83472062488412\n",
      " h :  47.830251913635216\n",
      " v :  47.83698798816881\n"
     ]
    }
   ],
   "source": [
    "\n",
    "print(\"Going through the mean of the x values:\")\n",
    "print(\" d : \", numpy.mean(DData['x'])) \n",
    "print(\" a : \", numpy.mean(AData['x']))\n",
    "print(\" h : \", numpy.mean(HData['x'])) \n",
    "print(\" v : \", numpy.mean(VData['x']))\n",
    "\n",
    "print(\"\\nGoing through the mean of the y values:\")\n",
    "print(\" d : \", numpy.mean(DData['y'])) \n",
    "print(\" a : \", numpy.mean(AData['y']))\n",
    "print(\" h : \", numpy.mean(HData['y'])) \n",
    "print(\" v : \", numpy.mean(VData['y']))"
   ]
  },
  {
   "cell_type": "markdown",
   "id": "59540657-2155-4409-90ce-82b1e12ab262",
   "metadata": {},
   "source": [
    "<hr style=\"border:1px solid hotpink\">\n",
    "\n",
    "I want to see the variance. Because I use the mean calculated from the data itself, I need to also be considering if I want to show the biased or unbiased variance. For completeness I will show both.\n",
    "\n",
    " <hr style=\"border:1px solid hotpink\">\n"
   ]
  },
  {
   "cell_type": "code",
   "execution_count": 6,
   "id": "5ab3fd7f-a240-4d5f-9568-46a1986d69bc",
   "metadata": {},
   "outputs": [
    {
     "name": "stdout",
     "output_type": "stream",
     "text": [
      "\n",
      "Going through the biased variance of the y values:\n",
      " d :  720.4066936731963\n",
      " a :  720.6388615634711\n",
      " h :  720.6459664500038\n",
      " v :  720.528676427573\n",
      "\n",
      "Going through the unbiased variance of the y values:\n",
      " d :  725.5159610042118\n",
      " a :  725.7497754752688\n",
      " h :  725.7569307510677\n",
      " v :  725.6388088845063\n"
     ]
    }
   ],
   "source": [
    "print(\"\\nGoing through the biased variance of the y values:\")\n",
    "print(\" d : \", numpy.var(DData['y']))\n",
    "print(\" a : \", numpy.var(AData['y'], ddof=0))\n",
    "print(\" h : \", numpy.var(HData['y'], ddof=0)) \n",
    "print(\" v : \", numpy.var(VData['y'], ddof=0))\n",
    "\n",
    "print(\"\\nGoing through the unbiased variance of the y values:\")\n",
    "print(\" d : \", numpy.var(DData['y'], ddof=1)) \n",
    "print(\" a : \", numpy.var(AData['y'], ddof=1))\n",
    "print(\" h : \", numpy.var(HData['y'], ddof=1)) \n",
    "print(\" v : \", numpy.var(VData['y'], ddof=1))"
   ]
  },
  {
   "cell_type": "markdown",
   "id": "c2729ac4-1773-41ad-b3cd-28f00f53cca1",
   "metadata": {},
   "source": [
    "<hr style=\"border:1px solid hotpink\">\n",
    "\n",
    "It certainly seems as though the datasets d, a, h, and v are all very, very similar when comparing the means and the variances. Considering that each dataset has 142 elements, this seems quite remarkable. Perhaps it would be good to do some further investigation (hint, hint)?\n",
    "\n",
    "<hr style=\"border:1px solid hotpink\">"
   ]
  },
  {
   "cell_type": "code",
   "execution_count": null,
   "id": "b26a6097-f6c0-44f4-88fa-138b67d3d733",
   "metadata": {},
   "outputs": [],
   "source": []
  }
 ],
 "metadata": {
  "kernelspec": {
   "display_name": "Python 3 (ipykernel)",
   "language": "python",
   "name": "python3"
  },
  "language_info": {
   "codemirror_mode": {
    "name": "ipython",
    "version": 3
   },
   "file_extension": ".py",
   "mimetype": "text/x-python",
   "name": "python",
   "nbconvert_exporter": "python",
   "pygments_lexer": "ipython3",
   "version": "3.9.6"
  }
 },
 "nbformat": 4,
 "nbformat_minor": 5
}
